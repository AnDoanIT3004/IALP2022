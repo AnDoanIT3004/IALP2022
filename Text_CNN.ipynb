{
  "cells": [
    {
      "cell_type": "code",
      "execution_count": 1,
      "metadata": {
        "id": "q1fwRuc1Vjv_"
      },
      "outputs": [],
      "source": [
        "import pandas as pd \n",
        "import numpy as np\n",
        "from sklearn.preprocessing import LabelEncoder"
      ]
    },
    {
      "cell_type": "code",
      "source": [
        "from google.colab import drive\n",
        "drive.mount('/content/drive')"
      ],
      "metadata": {
        "colab": {
          "base_uri": "https://localhost:8080/"
        },
        "id": "BSwN1-milVQP",
        "outputId": "b0d24bca-f4f2-4384-a67b-d6f80b82a974"
      },
      "execution_count": 3,
      "outputs": [
        {
          "output_type": "stream",
          "name": "stdout",
          "text": [
            "Mounted at /content/drive\n"
          ]
        }
      ]
    },
    {
      "cell_type": "markdown",
      "source": [
        "##Insert data "
      ],
      "metadata": {
        "id": "1Py1gO7zu235"
      }
    },
    {
      "cell_type": "code",
      "execution_count": 4,
      "metadata": {
        "id": "-IFjFp6oVugd"
      },
      "outputs": [],
      "source": [
        "#Data of UIT-VSMEC\n",
        "df_train= pd.read_excel('/content/drive/MyDrive/DoAnTotNghiep/Data/train_nor_811.xlsx')\n",
        "df_test= pd.read_excel('/content/drive/MyDrive/DoAnTotNghiep/Data/test_nor_811.xlsx')\n",
        "df_valid= pd.read_excel('/content/drive/MyDrive/DoAnTotNghiep/Data/valid_nor_811.xlsx')"
      ]
    },
    {
      "cell_type": "code",
      "execution_count": 5,
      "metadata": {
        "id": "Xn3Be-zOV2oA"
      },
      "outputs": [],
      "source": [
        "df_train= df_train.dropna(subset=['Sentence'])\n",
        "df_test= df_test.dropna(subset=['Sentence'])\n",
        "df_valid= df_valid.dropna(subset=['Sentence'])"
      ]
    },
    {
      "cell_type": "code",
      "execution_count": 9,
      "metadata": {
        "id": "j5AiE6F8P6nO"
      },
      "outputs": [],
      "source": [
        "#Data after the VnEmolex combine\n",
        "df_train2= pd.read_excel('/content/drive/MyDrive/DoAnTotNghiep/Lexicon/count_sentiment_train.xlsx')\n",
        "df_test2= pd.read_excel('/content/drive/MyDrive/DoAnTotNghiep/Lexicon/count_sentiment_test.xlsx')\n",
        "df_valid2= pd.read_excel('/content/drive/MyDrive/DoAnTotNghiep/Lexicon/count_sentiment_val.xlsx')"
      ]
    },
    {
      "cell_type": "code",
      "source": [
        "#Describe data after combine with VnEmolex\n",
        "df_train2"
      ],
      "metadata": {
        "colab": {
          "base_uri": "https://localhost:8080/",
          "height": 424
        },
        "id": "hmscfEDWxMco",
        "outputId": "a56e8baa-2f48-47c6-d0ba-06d9a38f8530"
      },
      "execution_count": 10,
      "outputs": [
        {
          "output_type": "execute_result",
          "data": {
            "text/plain": [
              "      Unnamed: 0    ID  Disgust  Fear  Enjoyment  Sadness  Suprise  Anger  \\\n",
              "0              0     0        0     0          0        0        0      0   \n",
              "1              1     1        1     0          0        0        0      0   \n",
              "2              2     2        0     0          2        1        0      0   \n",
              "3              3     3        0     0          0        0        0      0   \n",
              "4              4     4        0     0          0        0        0      0   \n",
              "...          ...   ...      ...   ...        ...      ...      ...    ...   \n",
              "5543        5543  5543        0     0          0        0        0      0   \n",
              "5544        5544  5544        0     0          0        0        0      0   \n",
              "5545        5545  5545        0     0          0        0        0      0   \n",
              "5546        5546  5546        0     0          1        0        0      0   \n",
              "5547        5547  5547        0     0          0        0        0      0   \n",
              "\n",
              "      Other  \n",
              "0         0  \n",
              "1         0  \n",
              "2         1  \n",
              "3         0  \n",
              "4         0  \n",
              "...     ...  \n",
              "5543      0  \n",
              "5544      0  \n",
              "5545      1  \n",
              "5546      0  \n",
              "5547      0  \n",
              "\n",
              "[5548 rows x 9 columns]"
            ],
            "text/html": [
              "\n",
              "  <div id=\"df-54afdb14-3394-47ea-a418-fb87444a82f4\">\n",
              "    <div class=\"colab-df-container\">\n",
              "      <div>\n",
              "<style scoped>\n",
              "    .dataframe tbody tr th:only-of-type {\n",
              "        vertical-align: middle;\n",
              "    }\n",
              "\n",
              "    .dataframe tbody tr th {\n",
              "        vertical-align: top;\n",
              "    }\n",
              "\n",
              "    .dataframe thead th {\n",
              "        text-align: right;\n",
              "    }\n",
              "</style>\n",
              "<table border=\"1\" class=\"dataframe\">\n",
              "  <thead>\n",
              "    <tr style=\"text-align: right;\">\n",
              "      <th></th>\n",
              "      <th>Unnamed: 0</th>\n",
              "      <th>ID</th>\n",
              "      <th>Disgust</th>\n",
              "      <th>Fear</th>\n",
              "      <th>Enjoyment</th>\n",
              "      <th>Sadness</th>\n",
              "      <th>Suprise</th>\n",
              "      <th>Anger</th>\n",
              "      <th>Other</th>\n",
              "    </tr>\n",
              "  </thead>\n",
              "  <tbody>\n",
              "    <tr>\n",
              "      <th>0</th>\n",
              "      <td>0</td>\n",
              "      <td>0</td>\n",
              "      <td>0</td>\n",
              "      <td>0</td>\n",
              "      <td>0</td>\n",
              "      <td>0</td>\n",
              "      <td>0</td>\n",
              "      <td>0</td>\n",
              "      <td>0</td>\n",
              "    </tr>\n",
              "    <tr>\n",
              "      <th>1</th>\n",
              "      <td>1</td>\n",
              "      <td>1</td>\n",
              "      <td>1</td>\n",
              "      <td>0</td>\n",
              "      <td>0</td>\n",
              "      <td>0</td>\n",
              "      <td>0</td>\n",
              "      <td>0</td>\n",
              "      <td>0</td>\n",
              "    </tr>\n",
              "    <tr>\n",
              "      <th>2</th>\n",
              "      <td>2</td>\n",
              "      <td>2</td>\n",
              "      <td>0</td>\n",
              "      <td>0</td>\n",
              "      <td>2</td>\n",
              "      <td>1</td>\n",
              "      <td>0</td>\n",
              "      <td>0</td>\n",
              "      <td>1</td>\n",
              "    </tr>\n",
              "    <tr>\n",
              "      <th>3</th>\n",
              "      <td>3</td>\n",
              "      <td>3</td>\n",
              "      <td>0</td>\n",
              "      <td>0</td>\n",
              "      <td>0</td>\n",
              "      <td>0</td>\n",
              "      <td>0</td>\n",
              "      <td>0</td>\n",
              "      <td>0</td>\n",
              "    </tr>\n",
              "    <tr>\n",
              "      <th>4</th>\n",
              "      <td>4</td>\n",
              "      <td>4</td>\n",
              "      <td>0</td>\n",
              "      <td>0</td>\n",
              "      <td>0</td>\n",
              "      <td>0</td>\n",
              "      <td>0</td>\n",
              "      <td>0</td>\n",
              "      <td>0</td>\n",
              "    </tr>\n",
              "    <tr>\n",
              "      <th>...</th>\n",
              "      <td>...</td>\n",
              "      <td>...</td>\n",
              "      <td>...</td>\n",
              "      <td>...</td>\n",
              "      <td>...</td>\n",
              "      <td>...</td>\n",
              "      <td>...</td>\n",
              "      <td>...</td>\n",
              "      <td>...</td>\n",
              "    </tr>\n",
              "    <tr>\n",
              "      <th>5543</th>\n",
              "      <td>5543</td>\n",
              "      <td>5543</td>\n",
              "      <td>0</td>\n",
              "      <td>0</td>\n",
              "      <td>0</td>\n",
              "      <td>0</td>\n",
              "      <td>0</td>\n",
              "      <td>0</td>\n",
              "      <td>0</td>\n",
              "    </tr>\n",
              "    <tr>\n",
              "      <th>5544</th>\n",
              "      <td>5544</td>\n",
              "      <td>5544</td>\n",
              "      <td>0</td>\n",
              "      <td>0</td>\n",
              "      <td>0</td>\n",
              "      <td>0</td>\n",
              "      <td>0</td>\n",
              "      <td>0</td>\n",
              "      <td>0</td>\n",
              "    </tr>\n",
              "    <tr>\n",
              "      <th>5545</th>\n",
              "      <td>5545</td>\n",
              "      <td>5545</td>\n",
              "      <td>0</td>\n",
              "      <td>0</td>\n",
              "      <td>0</td>\n",
              "      <td>0</td>\n",
              "      <td>0</td>\n",
              "      <td>0</td>\n",
              "      <td>1</td>\n",
              "    </tr>\n",
              "    <tr>\n",
              "      <th>5546</th>\n",
              "      <td>5546</td>\n",
              "      <td>5546</td>\n",
              "      <td>0</td>\n",
              "      <td>0</td>\n",
              "      <td>1</td>\n",
              "      <td>0</td>\n",
              "      <td>0</td>\n",
              "      <td>0</td>\n",
              "      <td>0</td>\n",
              "    </tr>\n",
              "    <tr>\n",
              "      <th>5547</th>\n",
              "      <td>5547</td>\n",
              "      <td>5547</td>\n",
              "      <td>0</td>\n",
              "      <td>0</td>\n",
              "      <td>0</td>\n",
              "      <td>0</td>\n",
              "      <td>0</td>\n",
              "      <td>0</td>\n",
              "      <td>0</td>\n",
              "    </tr>\n",
              "  </tbody>\n",
              "</table>\n",
              "<p>5548 rows × 9 columns</p>\n",
              "</div>\n",
              "      <button class=\"colab-df-convert\" onclick=\"convertToInteractive('df-54afdb14-3394-47ea-a418-fb87444a82f4')\"\n",
              "              title=\"Convert this dataframe to an interactive table.\"\n",
              "              style=\"display:none;\">\n",
              "        \n",
              "  <svg xmlns=\"http://www.w3.org/2000/svg\" height=\"24px\"viewBox=\"0 0 24 24\"\n",
              "       width=\"24px\">\n",
              "    <path d=\"M0 0h24v24H0V0z\" fill=\"none\"/>\n",
              "    <path d=\"M18.56 5.44l.94 2.06.94-2.06 2.06-.94-2.06-.94-.94-2.06-.94 2.06-2.06.94zm-11 1L8.5 8.5l.94-2.06 2.06-.94-2.06-.94L8.5 2.5l-.94 2.06-2.06.94zm10 10l.94 2.06.94-2.06 2.06-.94-2.06-.94-.94-2.06-.94 2.06-2.06.94z\"/><path d=\"M17.41 7.96l-1.37-1.37c-.4-.4-.92-.59-1.43-.59-.52 0-1.04.2-1.43.59L10.3 9.45l-7.72 7.72c-.78.78-.78 2.05 0 2.83L4 21.41c.39.39.9.59 1.41.59.51 0 1.02-.2 1.41-.59l7.78-7.78 2.81-2.81c.8-.78.8-2.07 0-2.86zM5.41 20L4 18.59l7.72-7.72 1.47 1.35L5.41 20z\"/>\n",
              "  </svg>\n",
              "      </button>\n",
              "      \n",
              "  <style>\n",
              "    .colab-df-container {\n",
              "      display:flex;\n",
              "      flex-wrap:wrap;\n",
              "      gap: 12px;\n",
              "    }\n",
              "\n",
              "    .colab-df-convert {\n",
              "      background-color: #E8F0FE;\n",
              "      border: none;\n",
              "      border-radius: 50%;\n",
              "      cursor: pointer;\n",
              "      display: none;\n",
              "      fill: #1967D2;\n",
              "      height: 32px;\n",
              "      padding: 0 0 0 0;\n",
              "      width: 32px;\n",
              "    }\n",
              "\n",
              "    .colab-df-convert:hover {\n",
              "      background-color: #E2EBFA;\n",
              "      box-shadow: 0px 1px 2px rgba(60, 64, 67, 0.3), 0px 1px 3px 1px rgba(60, 64, 67, 0.15);\n",
              "      fill: #174EA6;\n",
              "    }\n",
              "\n",
              "    [theme=dark] .colab-df-convert {\n",
              "      background-color: #3B4455;\n",
              "      fill: #D2E3FC;\n",
              "    }\n",
              "\n",
              "    [theme=dark] .colab-df-convert:hover {\n",
              "      background-color: #434B5C;\n",
              "      box-shadow: 0px 1px 3px 1px rgba(0, 0, 0, 0.15);\n",
              "      filter: drop-shadow(0px 1px 2px rgba(0, 0, 0, 0.3));\n",
              "      fill: #FFFFFF;\n",
              "    }\n",
              "  </style>\n",
              "\n",
              "      <script>\n",
              "        const buttonEl =\n",
              "          document.querySelector('#df-54afdb14-3394-47ea-a418-fb87444a82f4 button.colab-df-convert');\n",
              "        buttonEl.style.display =\n",
              "          google.colab.kernel.accessAllowed ? 'block' : 'none';\n",
              "\n",
              "        async function convertToInteractive(key) {\n",
              "          const element = document.querySelector('#df-54afdb14-3394-47ea-a418-fb87444a82f4');\n",
              "          const dataTable =\n",
              "            await google.colab.kernel.invokeFunction('convertToInteractive',\n",
              "                                                     [key], {});\n",
              "          if (!dataTable) return;\n",
              "\n",
              "          const docLinkHtml = 'Like what you see? Visit the ' +\n",
              "            '<a target=\"_blank\" href=https://colab.research.google.com/notebooks/data_table.ipynb>data table notebook</a>'\n",
              "            + ' to learn more about interactive tables.';\n",
              "          element.innerHTML = '';\n",
              "          dataTable['output_type'] = 'display_data';\n",
              "          await google.colab.output.renderOutput(dataTable, element);\n",
              "          const docLink = document.createElement('div');\n",
              "          docLink.innerHTML = docLinkHtml;\n",
              "          element.appendChild(docLink);\n",
              "        }\n",
              "      </script>\n",
              "    </div>\n",
              "  </div>\n",
              "  "
            ]
          },
          "metadata": {},
          "execution_count": 10
        }
      ]
    },
    {
      "cell_type": "markdown",
      "metadata": {
        "id": "phQfrN64V6jo"
      },
      "source": [
        "##Train"
      ]
    },
    {
      "cell_type": "code",
      "execution_count": 12,
      "metadata": {
        "colab": {
          "base_uri": "https://localhost:8080/"
        },
        "id": "RFFWcI6xV8Bs",
        "outputId": "deb1058f-6e85-45fe-a885-d1a357028ac5"
      },
      "outputs": [
        {
          "output_type": "execute_result",
          "data": {
            "text/plain": [
              "0                   cho mình xin bài nhạc tên là gì với ạ\n",
              "1       cho đáng đời con quỷ . về nhà lôi con nhà mày ...\n",
              "2       lo học đi . yêu đương lol gì hay lại thích học...\n",
              "3         uớc gì sau này về già vẫn có thể như cụ này :))\n",
              "4       mỗi lần có video của con là cứ coi đi coi lại ...\n",
              "                              ...                        \n",
              "5543    đường của nhà cụ hay sao mà cụ cấm người ta đỗ...\n",
              "5544                               nhìn mặt héo queo luôn\n",
              "5545    tao đi xe máy mỗi lần muốn để xe đi đâu là phi...\n",
              "5546                      thích thân hình boss rồi nhan 😌\n",
              "5547    ước mơ nhỏ nhoi của tao là được làm chị mà khô...\n",
              "Name: Sentence, Length: 5548, dtype: object"
            ]
          },
          "metadata": {},
          "execution_count": 12
        }
      ],
      "source": [
        "X_train1= df_train.loc[:,'Sentence']\n",
        "X_train1"
      ]
    },
    {
      "cell_type": "code",
      "execution_count": 13,
      "metadata": {
        "colab": {
          "base_uri": "https://localhost:8080/"
        },
        "id": "wv4q_Nk1Q5Jd",
        "outputId": "ee0c5bd3-3c90-4935-aa80-9fa0b7e532bd"
      },
      "outputs": [
        {
          "output_type": "execute_result",
          "data": {
            "text/plain": [
              "array([[0, 0, 0, ..., 0, 0, 0],\n",
              "       [0, 1, 0, ..., 0, 0, 0],\n",
              "       [0, 0, 2, ..., 1, 1, 0],\n",
              "       ...,\n",
              "       [0, 0, 0, ..., 1, 0, 0],\n",
              "       [0, 0, 1, ..., 0, 0, 0],\n",
              "       [0, 0, 0, ..., 0, 0, 0]])"
            ]
          },
          "metadata": {},
          "execution_count": 13
        }
      ],
      "source": [
        "#Extract features\n",
        "X_train2= df_train2[['Anger', 'Disgust', 'Enjoyment', 'Fear', 'Other', 'Sadness', 'Suprise']].values\n",
        "X_train2"
      ]
    },
    {
      "cell_type": "code",
      "execution_count": 14,
      "metadata": {
        "colab": {
          "base_uri": "https://localhost:8080/"
        },
        "id": "dGZypAvqV3hj",
        "outputId": "8a50eb48-0248-46ae-d858-c16d050b27d4"
      },
      "outputs": [
        {
          "output_type": "execute_result",
          "data": {
            "text/plain": [
              "0           Other\n",
              "1         Disgust\n",
              "2         Disgust\n",
              "3       Enjoyment\n",
              "4       Enjoyment\n",
              "          ...    \n",
              "5543      Disgust\n",
              "5544        Other\n",
              "5545        Other\n",
              "5546    Enjoyment\n",
              "5547      Sadness\n",
              "Name: Emotion, Length: 5548, dtype: object"
            ]
          },
          "metadata": {},
          "execution_count": 14
        }
      ],
      "source": [
        "y_train= df_train.loc[:,'Emotion']\n",
        "y_train"
      ]
    },
    {
      "cell_type": "code",
      "execution_count": 15,
      "metadata": {
        "id": "-JtrlWCCWCnr"
      },
      "outputs": [],
      "source": [
        "#Encode y_train\n",
        "\n",
        "enc1 = LabelEncoder()\n",
        "y_train = enc1.fit_transform(y_train)"
      ]
    },
    {
      "cell_type": "code",
      "source": [
        "enc1.classes_"
      ],
      "metadata": {
        "colab": {
          "base_uri": "https://localhost:8080/"
        },
        "id": "MvkPJ2KfmDnc",
        "outputId": "96eba029-693a-4f75-9ee8-d2eede9b8424"
      },
      "execution_count": 16,
      "outputs": [
        {
          "output_type": "execute_result",
          "data": {
            "text/plain": [
              "array(['Anger', 'Disgust', 'Enjoyment', 'Fear', 'Other', 'Sadness',\n",
              "       'Surprise'], dtype=object)"
            ]
          },
          "metadata": {},
          "execution_count": 16
        }
      ]
    },
    {
      "cell_type": "code",
      "execution_count": 17,
      "metadata": {
        "colab": {
          "base_uri": "https://localhost:8080/"
        },
        "id": "mo4O9uXcWM9M",
        "outputId": "ec3f9ab2-fb7d-479e-a611-0a8e3b25d3cf"
      },
      "outputs": [
        {
          "output_type": "execute_result",
          "data": {
            "text/plain": [
              "0       4\n",
              "1       1\n",
              "2       1\n",
              "3       2\n",
              "4       2\n",
              "       ..\n",
              "5543    1\n",
              "5544    4\n",
              "5545    4\n",
              "5546    2\n",
              "5547    5\n",
              "Length: 5548, dtype: int64"
            ]
          },
          "metadata": {},
          "execution_count": 17
        }
      ],
      "source": [
        "y_train= pd.Series(y_train)\n",
        "y_train"
      ]
    },
    {
      "cell_type": "markdown",
      "metadata": {
        "id": "KuXYm42MWT9-"
      },
      "source": [
        "##Test"
      ]
    },
    {
      "cell_type": "code",
      "execution_count": 20,
      "metadata": {
        "colab": {
          "base_uri": "https://localhost:8080/"
        },
        "id": "PZAfDl6aWVj7",
        "outputId": "8d0980dc-ba5e-4d5a-ffa3-8fd7d169128d"
      },
      "outputs": [
        {
          "output_type": "execute_result",
          "data": {
            "text/plain": [
              "0                       người ta có bạn bè nhìn vui thật\n",
              "1              cho nghỉ viêc mói đúng sao goi là kỷ luật\n",
              "2                                             kinh vãi 😡\n",
              "3      nhà thì không xa lắm nhưng chưa bao giờ đi vì ...\n",
              "4          bố không thích nộp đấy mày thích ý kiến không\n",
              "                             ...                        \n",
              "688    lúc thì cuốc đất è cổ ra không có giun mà câu ...\n",
              "689    các bác dẫn crush qua cây sữa nay mà hứng nước...\n",
              "690    vợ chồng rồi mà trong sáng như này chỉ có tron...\n",
              "691                     bep này vào binh dương dùng xuất\n",
              "692                                 đôi mắt đằm thắm vãi\n",
              "Name: Sentence, Length: 693, dtype: object"
            ]
          },
          "metadata": {},
          "execution_count": 20
        }
      ],
      "source": [
        "X_test1= df_test.loc[:,'Sentence']\n",
        "X_test1"
      ]
    },
    {
      "cell_type": "code",
      "execution_count": 21,
      "metadata": {
        "colab": {
          "base_uri": "https://localhost:8080/"
        },
        "id": "9ph9SXqLgfS_",
        "outputId": "15a5e133-cfdc-4b33-cb15-231fc43e6b60"
      },
      "outputs": [
        {
          "output_type": "execute_result",
          "data": {
            "text/plain": [
              "array([[0, 0, 3, ..., 2, 0, 0],\n",
              "       [0, 0, 1, ..., 1, 1, 0],\n",
              "       [0, 0, 0, ..., 0, 0, 0],\n",
              "       ...,\n",
              "       [0, 0, 1, ..., 1, 0, 1],\n",
              "       [0, 0, 0, ..., 0, 0, 0],\n",
              "       [0, 0, 0, ..., 0, 0, 0]])"
            ]
          },
          "metadata": {},
          "execution_count": 21
        }
      ],
      "source": [
        "X_test2= df_test2[['Anger', 'Disgust', 'Enjoyment', 'Fear', 'Other', 'Sadness', 'Suprise']].values\n",
        "X_test2"
      ]
    },
    {
      "cell_type": "code",
      "execution_count": 22,
      "metadata": {
        "colab": {
          "base_uri": "https://localhost:8080/"
        },
        "id": "RW23pNQ1WWKz",
        "outputId": "e43df84f-89af-49e0-dc28-046a6b82b1e8"
      },
      "outputs": [
        {
          "output_type": "execute_result",
          "data": {
            "text/plain": [
              "0        Sadness\n",
              "1       Surprise\n",
              "2        Disgust\n",
              "3           Fear\n",
              "4          Anger\n",
              "         ...    \n",
              "688      Sadness\n",
              "689    Enjoyment\n",
              "690     Surprise\n",
              "691        Other\n",
              "692     Surprise\n",
              "Name: Emotion, Length: 693, dtype: object"
            ]
          },
          "metadata": {},
          "execution_count": 22
        }
      ],
      "source": [
        "y_test= df_test.loc[:,'Emotion']\n",
        "y_test"
      ]
    },
    {
      "cell_type": "code",
      "execution_count": 23,
      "metadata": {
        "id": "MYHPYEL3WZXD"
      },
      "outputs": [],
      "source": [
        "#Encode y_test\n",
        "\n",
        "enc2 = LabelEncoder()\n",
        "y_test = enc2.fit_transform(y_test)"
      ]
    },
    {
      "cell_type": "code",
      "execution_count": 24,
      "metadata": {
        "colab": {
          "base_uri": "https://localhost:8080/"
        },
        "id": "OsfXatzHWdZi",
        "outputId": "deaee0df-8364-4b3c-bac0-23b377bacf31"
      },
      "outputs": [
        {
          "output_type": "execute_result",
          "data": {
            "text/plain": [
              "0      5\n",
              "1      6\n",
              "2      1\n",
              "3      3\n",
              "4      0\n",
              "      ..\n",
              "688    5\n",
              "689    2\n",
              "690    6\n",
              "691    4\n",
              "692    6\n",
              "Length: 693, dtype: int64"
            ]
          },
          "metadata": {},
          "execution_count": 24
        }
      ],
      "source": [
        "y_test= pd.Series(y_test)\n",
        "y_test"
      ]
    },
    {
      "cell_type": "markdown",
      "metadata": {
        "id": "xVUQoGqSWe0z"
      },
      "source": [
        "##Dev"
      ]
    },
    {
      "cell_type": "code",
      "execution_count": 25,
      "metadata": {
        "colab": {
          "base_uri": "https://localhost:8080/"
        },
        "id": "mpZbRaVZWgMb",
        "outputId": "20e31dff-b3bb-4f00-e2d1-c8dc0239811a"
      },
      "outputs": [
        {
          "output_type": "execute_result",
          "data": {
            "text/plain": [
              "0      tính tao tao biết , chẳng có chuyện gì có thể ...\n",
              "1               lại là lào cai , tự hào quê mình quá :))\n",
              "2                                         bị từ chối rồi\n",
              "3                             tam đảo trời đẹp các mem à\n",
              "4      đọc bình luận của thằng đó không thiếu chữ nào 😂😂\n",
              "                             ...                        \n",
              "681                                       nhọc lòng :(((\n",
              "682    tao đã rất muốn làm bạn tốt anh em tri kỉ với ...\n",
              "683                     cơm tấm ở ngoài cũng như này . 😡\n",
              "684                                   chất liệu đỉnh quá\n",
              "685    dume lũ mất dạy . bố mẹ cho mày ăn học để dơ n...\n",
              "Name: Sentence, Length: 686, dtype: object"
            ]
          },
          "metadata": {},
          "execution_count": 25
        }
      ],
      "source": [
        "X_valid1= df_valid.loc[:,'Sentence']\n",
        "X_valid1"
      ]
    },
    {
      "cell_type": "code",
      "execution_count": 26,
      "metadata": {
        "colab": {
          "base_uri": "https://localhost:8080/"
        },
        "id": "TsKJr4HVgpZs",
        "outputId": "dee49139-fee4-4bb9-b675-5a6fc5886f27"
      },
      "outputs": [
        {
          "output_type": "execute_result",
          "data": {
            "text/plain": [
              "array([[0, 0, 0, ..., 0, 0, 0],\n",
              "       [0, 0, 0, ..., 0, 0, 0],\n",
              "       [0, 0, 0, ..., 0, 0, 0],\n",
              "       ...,\n",
              "       [0, 0, 0, ..., 0, 0, 0],\n",
              "       [0, 0, 0, ..., 1, 0, 0],\n",
              "       [0, 2, 0, ..., 3, 1, 1]])"
            ]
          },
          "metadata": {},
          "execution_count": 26
        }
      ],
      "source": [
        "X_valid2= df_valid2[['Anger', 'Disgust', 'Enjoyment', 'Fear', 'Other', 'Sadness', 'Suprise']].values\n",
        "X_valid2"
      ]
    },
    {
      "cell_type": "code",
      "execution_count": 27,
      "metadata": {
        "colab": {
          "base_uri": "https://localhost:8080/"
        },
        "id": "pWtdfv1hWk-Z",
        "outputId": "2b155950-b89b-4231-8816-88bd00a7f657"
      },
      "outputs": [
        {
          "output_type": "execute_result",
          "data": {
            "text/plain": [
              "0          Other\n",
              "1      Enjoyment\n",
              "2        Sadness\n",
              "3      Enjoyment\n",
              "4          Other\n",
              "         ...    \n",
              "681      Sadness\n",
              "682      Sadness\n",
              "683      Disgust\n",
              "684     Surprise\n",
              "685        Anger\n",
              "Name: Emotion, Length: 686, dtype: object"
            ]
          },
          "metadata": {},
          "execution_count": 27
        }
      ],
      "source": [
        "y_valid= df_valid.loc[:,'Emotion']\n",
        "y_valid"
      ]
    },
    {
      "cell_type": "code",
      "execution_count": 28,
      "metadata": {
        "id": "rzCILO5yWoGf"
      },
      "outputs": [],
      "source": [
        "#Encode y_valid\n",
        "\n",
        "enc3 = LabelEncoder()\n",
        "y_valid = enc3.fit_transform(y_valid)"
      ]
    },
    {
      "cell_type": "code",
      "execution_count": 29,
      "metadata": {
        "colab": {
          "base_uri": "https://localhost:8080/"
        },
        "id": "nht_DqM0Wp3_",
        "outputId": "2797cb21-5ebd-4814-c534-d9d9a56e6bad"
      },
      "outputs": [
        {
          "output_type": "execute_result",
          "data": {
            "text/plain": [
              "0      4\n",
              "1      2\n",
              "2      5\n",
              "3      2\n",
              "4      4\n",
              "      ..\n",
              "681    5\n",
              "682    5\n",
              "683    1\n",
              "684    6\n",
              "685    0\n",
              "Length: 686, dtype: int64"
            ]
          },
          "metadata": {},
          "execution_count": 29
        }
      ],
      "source": [
        "y_valid= pd.Series(y_valid)\n",
        "y_valid"
      ]
    },
    {
      "cell_type": "markdown",
      "metadata": {
        "id": "oCqUq-0Fo9Vo"
      },
      "source": [
        "#Text-CNN"
      ]
    },
    {
      "cell_type": "code",
      "execution_count": 30,
      "metadata": {
        "colab": {
          "base_uri": "https://localhost:8080/"
        },
        "id": "jLZDTSJvpQXK",
        "outputId": "91b7ecf5-189d-4f38-9595-b78dacb9c789"
      },
      "outputs": [
        {
          "output_type": "stream",
          "name": "stdout",
          "text": [
            "Looking in indexes: https://pypi.org/simple, https://us-python.pkg.dev/colab-wheels/public/simple/\n",
            "Collecting pyvi\n",
            "  Downloading pyvi-0.1.1-py2.py3-none-any.whl (8.5 MB)\n",
            "\u001b[K     |████████████████████████████████| 8.5 MB 7.7 MB/s \n",
            "\u001b[?25hCollecting sklearn-crfsuite\n",
            "  Downloading sklearn_crfsuite-0.3.6-py2.py3-none-any.whl (12 kB)\n",
            "Requirement already satisfied: scikit-learn in /usr/local/lib/python3.7/dist-packages (from pyvi) (1.0.2)\n",
            "Requirement already satisfied: threadpoolctl>=2.0.0 in /usr/local/lib/python3.7/dist-packages (from scikit-learn->pyvi) (3.1.0)\n",
            "Requirement already satisfied: joblib>=0.11 in /usr/local/lib/python3.7/dist-packages (from scikit-learn->pyvi) (1.2.0)\n",
            "Requirement already satisfied: numpy>=1.14.6 in /usr/local/lib/python3.7/dist-packages (from scikit-learn->pyvi) (1.21.6)\n",
            "Requirement already satisfied: scipy>=1.1.0 in /usr/local/lib/python3.7/dist-packages (from scikit-learn->pyvi) (1.7.3)\n",
            "Requirement already satisfied: six in /usr/local/lib/python3.7/dist-packages (from sklearn-crfsuite->pyvi) (1.15.0)\n",
            "Requirement already satisfied: tabulate in /usr/local/lib/python3.7/dist-packages (from sklearn-crfsuite->pyvi) (0.8.10)\n",
            "Collecting python-crfsuite>=0.8.3\n",
            "  Downloading python_crfsuite-0.9.8-cp37-cp37m-manylinux_2_17_x86_64.manylinux2014_x86_64.whl (965 kB)\n",
            "\u001b[K     |████████████████████████████████| 965 kB 62.7 MB/s \n",
            "\u001b[?25hRequirement already satisfied: tqdm>=2.0 in /usr/local/lib/python3.7/dist-packages (from sklearn-crfsuite->pyvi) (4.64.1)\n",
            "Installing collected packages: python-crfsuite, sklearn-crfsuite, pyvi\n",
            "Successfully installed python-crfsuite-0.9.8 pyvi-0.1.1 sklearn-crfsuite-0.3.6\n"
          ]
        }
      ],
      "source": [
        "pip install pyvi"
      ]
    },
    {
      "cell_type": "code",
      "source": [
        "pip install unidecode"
      ],
      "metadata": {
        "colab": {
          "base_uri": "https://localhost:8080/"
        },
        "id": "FSwFN9xpWQni",
        "outputId": "851f9a97-e4e2-44c3-c747-5f6270f3aa5c"
      },
      "execution_count": 31,
      "outputs": [
        {
          "output_type": "stream",
          "name": "stdout",
          "text": [
            "Looking in indexes: https://pypi.org/simple, https://us-python.pkg.dev/colab-wheels/public/simple/\n",
            "Collecting unidecode\n",
            "  Downloading Unidecode-1.3.6-py3-none-any.whl (235 kB)\n",
            "\u001b[K     |████████████████████████████████| 235 kB 8.1 MB/s \n",
            "\u001b[?25hInstalling collected packages: unidecode\n",
            "Successfully installed unidecode-1.3.6\n"
          ]
        }
      ]
    },
    {
      "cell_type": "code",
      "source": [
        "import numpy as np\n",
        "import pandas as pd\n",
        "from keras.layers import Dense, Input, Bidirectional, GRU\n",
        "from keras.layers import Embedding\n",
        "from keras.preprocessing import text, sequence\n",
        "from keras.layers import GlobalMaxPooling1D, GlobalAveragePooling1D, concatenate, SpatialDropout1D, Reshape, Conv2D, MaxPool2D, Flatten, Dropout\n",
        "from keras.models import Model\n",
        "from keras import backend as K\n",
        "from tensorflow.keras.utils import to_categorical\n",
        "from sklearn.metrics import f1_score, confusion_matrix, accuracy_score\n",
        "from sklearn.metrics import classification_report\n",
        "from keras.layers.merge import Concatenate\n",
        "from tensorflow.keras.callbacks import EarlyStopping\n",
        "from tensorflow.keras.optimizers import Adam \n",
        "from tensorflow.keras.losses import CategoricalCrossentropy, BinaryCrossentropy\n",
        "\n",
        "from pyvi.ViTokenizer import ViTokenizer\n",
        "from sklearn.model_selection import train_test_split, StratifiedShuffleSplit\n",
        "from unidecode import unidecode"
      ],
      "metadata": {
        "id": "dLzXiPOMWaIo"
      },
      "execution_count": 37,
      "outputs": []
    },
    {
      "cell_type": "code",
      "source": [
        "# pre-process function\n",
        "def preprocess(text):\n",
        "    text = ViTokenizer.tokenize(text)\n",
        "    # text = unidecode(text)\n",
        "    text = text.lower()\n",
        "    return text\n",
        "\n",
        "# Configuration - please change theses setting compatible with yours\n",
        "EMBEDDING_FILE = '/content/drive/MyDrive/DoAnTotNghiep/Model/cc.vi.300.vec' \n",
        "\n",
        "#Dowload cc.vi.300 at: https://fasttext.cc/docs/en/crawl-vectors.html\n",
        "\n",
        "max_features = 11221\n",
        "maxlen = 1000\n",
        "embed_size = 300\n",
        "batch_size = 1024\n",
        "epochs = 10"
      ],
      "metadata": {
        "id": "bYhnDBbNWeK6"
      },
      "execution_count": 33,
      "outputs": []
    },
    {
      "cell_type": "code",
      "source": [
        "# --------------Feature Extraction -------------------------\n",
        "tokenizer = text.Tokenizer(num_words=None, lower=False, filters='!\"#$%&()*+,-./:;<=>?@[\\\\]^`{|}~\\t\\n')\n",
        "tokenizer.fit_on_texts(X_train1.astype(str))"
      ],
      "metadata": {
        "id": "WEJAKEV-Woz7"
      },
      "execution_count": 34,
      "outputs": []
    },
    {
      "cell_type": "code",
      "source": [
        "#--------------END TRICH XUAT DAC TRUNG -------------------------\n",
        "embeddings_index = {}\n",
        "with open(EMBEDDING_FILE, encoding='utf8') as f:\n",
        "    for line in f:\n",
        "        values = line.rstrip().rsplit(' ')\n",
        "        word = values[0]\n",
        "        coefs = np.asarray(values[1:], dtype='float32')\n",
        "        embeddings_index[word] = coefs\n",
        "\n",
        "word_index = tokenizer.word_index\n",
        "num_words = len(word_index) + 1\n",
        "embedding_matrix = np.zeros((num_words, embed_size))\n",
        "max_features = num_words\n",
        "\n",
        "for word, i in word_index.items():\n",
        "    if i >= max_features:\n",
        "        continue\n",
        "\n",
        "    embedding_vector = embeddings_index.get(word)\n",
        "    if embedding_vector is not None:\n",
        "        embedding_matrix[i] = embedding_vector"
      ],
      "metadata": {
        "id": "eWlo9tqSWsca"
      },
      "execution_count": 35,
      "outputs": []
    },
    {
      "cell_type": "markdown",
      "source": [
        "#1 Input (only text in input)"
      ],
      "metadata": {
        "id": "b6D7SHZzzdtQ"
      }
    },
    {
      "cell_type": "code",
      "source": [
        "filter_sizes = [1,2,3,5]\n",
        "num_filters = 32\n",
        "\n",
        "inp = Input(shape=(maxlen,))\n",
        "x = Embedding(max_features, embed_size, weights =[embedding_matrix])(inp)\n",
        "x = SpatialDropout1D(0.4)(x)\n",
        "x = Reshape((maxlen, embed_size, 1))(x)\n",
        "\n",
        "conv_0 = Conv2D(num_filters, kernel_size=(filter_sizes[0], embed_size), kernel_initializer='normal',\n",
        "                activation='elu')(x)\n",
        "conv_1 = Conv2D(num_filters, kernel_size=(filter_sizes[1], embed_size), kernel_initializer='normal',\n",
        "                activation='elu')(x)\n",
        "conv_2 = Conv2D(num_filters, kernel_size=(filter_sizes[2], embed_size), kernel_initializer='normal',\n",
        "                activation='elu')(x)\n",
        "conv_3 = Conv2D(num_filters, kernel_size=(filter_sizes[3], embed_size), kernel_initializer='normal',\n",
        "                activation='elu')(x)\n",
        "\n",
        "maxpool_0 = MaxPool2D(pool_size=(maxlen - filter_sizes[0] + 1, 1))(conv_0)\n",
        "maxpool_1 = MaxPool2D(pool_size=(maxlen - filter_sizes[1] + 1, 1))(conv_1)\n",
        "maxpool_2 = MaxPool2D(pool_size=(maxlen - filter_sizes[2] + 1, 1))(conv_2)\n",
        "maxpool_3 = MaxPool2D(pool_size=(maxlen - filter_sizes[3] + 1, 1))(conv_3)\n",
        "\n",
        "z = Concatenate(axis=1)([maxpool_0, maxpool_1, maxpool_2, maxpool_3])\n",
        "z = Flatten()(z)\n",
        "z = Dropout(0.4)(z)\n",
        "\n",
        "outp = Dense(7, activation=\"softmax\")(z)\n",
        "\n",
        "optimizer = Adam(beta_1=0.9, beta_2=0.999, decay=0.0)\n",
        "loss = CategoricalCrossentropy()\n",
        "\n",
        "model = Model(inputs=inp, outputs=outp)\n",
        "model.compile(loss=loss,\n",
        "              optimizer=optimizer,\n",
        "              metrics=['categorical_accuracy'])\n",
        "model.summary()"
      ],
      "metadata": {
        "colab": {
          "base_uri": "https://localhost:8080/"
        },
        "id": "xHFXBSRfzdPY",
        "outputId": "39e80b8b-6ef5-4325-dca3-e294c523effd"
      },
      "execution_count": 38,
      "outputs": [
        {
          "output_type": "stream",
          "name": "stdout",
          "text": [
            "Model: \"model\"\n",
            "__________________________________________________________________________________________________\n",
            " Layer (type)                   Output Shape         Param #     Connected to                     \n",
            "==================================================================================================\n",
            " input_2 (InputLayer)           [(None, 1000)]       0           []                               \n",
            "                                                                                                  \n",
            " embedding_1 (Embedding)        (None, 1000, 300)    1326900     ['input_2[0][0]']                \n",
            "                                                                                                  \n",
            " spatial_dropout1d_1 (SpatialDr  (None, 1000, 300)   0           ['embedding_1[0][0]']            \n",
            " opout1D)                                                                                         \n",
            "                                                                                                  \n",
            " reshape_1 (Reshape)            (None, 1000, 300, 1  0           ['spatial_dropout1d_1[0][0]']    \n",
            "                                )                                                                 \n",
            "                                                                                                  \n",
            " conv2d_4 (Conv2D)              (None, 1000, 1, 32)  9632        ['reshape_1[0][0]']              \n",
            "                                                                                                  \n",
            " conv2d_5 (Conv2D)              (None, 999, 1, 32)   19232       ['reshape_1[0][0]']              \n",
            "                                                                                                  \n",
            " conv2d_6 (Conv2D)              (None, 998, 1, 32)   28832       ['reshape_1[0][0]']              \n",
            "                                                                                                  \n",
            " conv2d_7 (Conv2D)              (None, 996, 1, 32)   48032       ['reshape_1[0][0]']              \n",
            "                                                                                                  \n",
            " max_pooling2d_4 (MaxPooling2D)  (None, 1, 1, 32)    0           ['conv2d_4[0][0]']               \n",
            "                                                                                                  \n",
            " max_pooling2d_5 (MaxPooling2D)  (None, 1, 1, 32)    0           ['conv2d_5[0][0]']               \n",
            "                                                                                                  \n",
            " max_pooling2d_6 (MaxPooling2D)  (None, 1, 1, 32)    0           ['conv2d_6[0][0]']               \n",
            "                                                                                                  \n",
            " max_pooling2d_7 (MaxPooling2D)  (None, 1, 1, 32)    0           ['conv2d_7[0][0]']               \n",
            "                                                                                                  \n",
            " concatenate_1 (Concatenate)    (None, 4, 1, 32)     0           ['max_pooling2d_4[0][0]',        \n",
            "                                                                  'max_pooling2d_5[0][0]',        \n",
            "                                                                  'max_pooling2d_6[0][0]',        \n",
            "                                                                  'max_pooling2d_7[0][0]']        \n",
            "                                                                                                  \n",
            " flatten_1 (Flatten)            (None, 128)          0           ['concatenate_1[0][0]']          \n",
            "                                                                                                  \n",
            " dropout_1 (Dropout)            (None, 128)          0           ['flatten_1[0][0]']              \n",
            "                                                                                                  \n",
            " dense_1 (Dense)                (None, 7)            903         ['dropout_1[0][0]']              \n",
            "                                                                                                  \n",
            "==================================================================================================\n",
            "Total params: 1,433,531\n",
            "Trainable params: 1,433,531\n",
            "Non-trainable params: 0\n",
            "__________________________________________________________________________________________________\n"
          ]
        }
      ]
    },
    {
      "cell_type": "code",
      "source": [
        "X_train_fold = [preprocess(str(p)) for p in list(X_train1)]\n",
        "X_train_fold = tokenizer.texts_to_sequences(X_train_fold)\n",
        "X_train_fold = sequence.pad_sequences(X_train_fold, maxlen=maxlen)\n",
        "\n",
        "X_test_fold = [preprocess(str(p)) for p in list(X_test1)]\n",
        "X_test_fold = tokenizer.texts_to_sequences(X_test_fold)\n",
        "X_test_fold = sequence.pad_sequences(X_test_fold, maxlen=maxlen)\n",
        "\n",
        "X_valid_fold = [preprocess(str(p)) for p in list(X_valid1)]\n",
        "X_valid_fold = tokenizer.texts_to_sequences(X_valid_fold)\n",
        "X_valid_fold = sequence.pad_sequences(X_valid_fold, maxlen=maxlen)\n",
        "\n",
        "y_train_fold = to_categorical(y_train, num_classes=7)\n",
        "y_valid_fold = to_categorical(y_valid, num_classes=7)\n",
        "y_test_fold = y_test\n",
        "callback = EarlyStopping(patience=3)\n",
        "\n",
        "model.fit(x=X_train_fold, y=y_train_fold, validation_data=(X_valid_fold, y_valid_fold), batch_size=64, epochs=10, verbose=1, callbacks= [callback])\n",
        "prediction = model.predict(X_test_fold, batch_size=batch_size, verbose=1)\n",
        "test_pred = prediction.argmax(axis=-1)\n",
        "evaluate = f1_score(y_test_fold, test_pred, average='weighted')\n",
        "confuse = confusion_matrix(y_test_fold, test_pred, labels=[0, 1, 2, 3, 4, 5, 6])"
      ],
      "metadata": {
        "colab": {
          "base_uri": "https://localhost:8080/"
        },
        "id": "NMdJQoDGzvj_",
        "outputId": "b03bdf9a-1423-495a-8b40-b515b8744ab0"
      },
      "execution_count": 39,
      "outputs": [
        {
          "output_type": "stream",
          "name": "stdout",
          "text": [
            "Epoch 1/10\n",
            "87/87 [==============================] - 136s 671ms/step - loss: 1.7594 - categorical_accuracy: 0.2864 - val_loss: 1.5955 - val_categorical_accuracy: 0.3950\n",
            "Epoch 2/10\n",
            "87/87 [==============================] - 6s 71ms/step - loss: 1.5435 - categorical_accuracy: 0.4092 - val_loss: 1.4377 - val_categorical_accuracy: 0.4723\n",
            "Epoch 3/10\n",
            "87/87 [==============================] - 6s 71ms/step - loss: 1.3368 - categorical_accuracy: 0.5148 - val_loss: 1.3224 - val_categorical_accuracy: 0.4971\n",
            "Epoch 4/10\n",
            "87/87 [==============================] - 6s 71ms/step - loss: 1.1590 - categorical_accuracy: 0.5880 - val_loss: 1.2598 - val_categorical_accuracy: 0.5277\n",
            "Epoch 5/10\n",
            "87/87 [==============================] - 6s 71ms/step - loss: 1.0186 - categorical_accuracy: 0.6471 - val_loss: 1.2455 - val_categorical_accuracy: 0.5277\n",
            "Epoch 6/10\n",
            "87/87 [==============================] - 6s 72ms/step - loss: 0.8968 - categorical_accuracy: 0.6918 - val_loss: 1.2553 - val_categorical_accuracy: 0.5379\n",
            "Epoch 7/10\n",
            "87/87 [==============================] - 6s 72ms/step - loss: 0.7878 - categorical_accuracy: 0.7323 - val_loss: 1.2734 - val_categorical_accuracy: 0.5292\n",
            "Epoch 8/10\n",
            "87/87 [==============================] - 6s 72ms/step - loss: 0.6945 - categorical_accuracy: 0.7632 - val_loss: 1.3095 - val_categorical_accuracy: 0.5277\n",
            "1/1 [==============================] - 4s 4s/step\n"
          ]
        }
      ]
    },
    {
      "cell_type": "code",
      "source": [
        "print(classification_report(y_test_fold, test_pred,digits=4))"
      ],
      "metadata": {
        "id": "UJcSaeHAz1xc"
      },
      "execution_count": null,
      "outputs": []
    },
    {
      "cell_type": "markdown",
      "source": [
        "#2 Input (Text + Feature in Data after commbine)"
      ],
      "metadata": {
        "id": "1AoejATnx295"
      }
    },
    {
      "cell_type": "code",
      "source": [
        "filter_sizes = [1,2,3,5]\n",
        "num_filters = 32\n",
        "\n",
        "inp = Input(shape=(maxlen,))\n",
        "inp2 = Input(shape=(7,))\n",
        "x = Embedding(max_features, embed_size, weights =[embedding_matrix])(inp)\n",
        "x2 = Embedding(max_features+1, embed_size, mask_zero= False)(inp2)\n",
        "conca = Concatenate(axis=1)([x, x2])\n",
        "\n",
        "x = SpatialDropout1D(0.4)(conca)\n",
        "x = Reshape((maxlen+7, embed_size, 1))(x)\n",
        "\n",
        "conv_0 = Conv2D(num_filters, kernel_size=(filter_sizes[0], embed_size), kernel_initializer='normal',\n",
        "                activation='elu')(x)\n",
        "conv_1 = Conv2D(num_filters, kernel_size=(filter_sizes[1], embed_size), kernel_initializer='normal',\n",
        "                activation='elu')(x)\n",
        "conv_2 = Conv2D(num_filters, kernel_size=(filter_sizes[2], embed_size), kernel_initializer='normal',\n",
        "                activation='elu')(x)\n",
        "conv_3 = Conv2D(num_filters, kernel_size=(filter_sizes[3], embed_size), kernel_initializer='normal',\n",
        "                activation='elu')(x)\n",
        "\n",
        "maxpool_0 = MaxPool2D(pool_size=(maxlen - filter_sizes[0] + 1, 1))(conv_0)\n",
        "maxpool_1 = MaxPool2D(pool_size=(maxlen - filter_sizes[1] + 1, 1))(conv_1)\n",
        "maxpool_2 = MaxPool2D(pool_size=(maxlen - filter_sizes[2] + 1, 1))(conv_2)\n",
        "maxpool_3 = MaxPool2D(pool_size=(maxlen - filter_sizes[3] + 1, 1))(conv_3)\n",
        "\n",
        "z = Concatenate(axis=1)([maxpool_0, maxpool_1, maxpool_2, maxpool_3])\n",
        "z = Flatten()(z)\n",
        "z = Dropout(0.4)(z)\n",
        "\n",
        "outp = Dense(7, activation=\"softmax\")(z)\n",
        "\n",
        "\n",
        "model1 = Model(inputs=[inp, inp2], outputs=outp)\n",
        "model1.compile(loss='categorical_crossentropy',\n",
        "              optimizer='adam',\n",
        "              metrics=['categorical_accuracy'])\n",
        "model1.summary()"
      ],
      "metadata": {
        "colab": {
          "base_uri": "https://localhost:8080/"
        },
        "id": "vlA78-TckVhK",
        "outputId": "94689863-cb3c-4c8e-daae-c7f4149139c6"
      },
      "execution_count": 41,
      "outputs": [
        {
          "output_type": "stream",
          "name": "stdout",
          "text": [
            "Model: \"model_1\"\n",
            "__________________________________________________________________________________________________\n",
            " Layer (type)                   Output Shape         Param #     Connected to                     \n",
            "==================================================================================================\n",
            " input_3 (InputLayer)           [(None, 1000)]       0           []                               \n",
            "                                                                                                  \n",
            " input_4 (InputLayer)           [(None, 7)]          0           []                               \n",
            "                                                                                                  \n",
            " embedding_2 (Embedding)        (None, 1000, 300)    1326900     ['input_3[0][0]']                \n",
            "                                                                                                  \n",
            " embedding_3 (Embedding)        (None, 7, 300)       1327200     ['input_4[0][0]']                \n",
            "                                                                                                  \n",
            " concatenate_2 (Concatenate)    (None, 1007, 300)    0           ['embedding_2[0][0]',            \n",
            "                                                                  'embedding_3[0][0]']            \n",
            "                                                                                                  \n",
            " spatial_dropout1d_2 (SpatialDr  (None, 1007, 300)   0           ['concatenate_2[0][0]']          \n",
            " opout1D)                                                                                         \n",
            "                                                                                                  \n",
            " reshape_2 (Reshape)            (None, 1007, 300, 1  0           ['spatial_dropout1d_2[0][0]']    \n",
            "                                )                                                                 \n",
            "                                                                                                  \n",
            " conv2d_8 (Conv2D)              (None, 1007, 1, 32)  9632        ['reshape_2[0][0]']              \n",
            "                                                                                                  \n",
            " conv2d_9 (Conv2D)              (None, 1006, 1, 32)  19232       ['reshape_2[0][0]']              \n",
            "                                                                                                  \n",
            " conv2d_10 (Conv2D)             (None, 1005, 1, 32)  28832       ['reshape_2[0][0]']              \n",
            "                                                                                                  \n",
            " conv2d_11 (Conv2D)             (None, 1003, 1, 32)  48032       ['reshape_2[0][0]']              \n",
            "                                                                                                  \n",
            " max_pooling2d_8 (MaxPooling2D)  (None, 1, 1, 32)    0           ['conv2d_8[0][0]']               \n",
            "                                                                                                  \n",
            " max_pooling2d_9 (MaxPooling2D)  (None, 1, 1, 32)    0           ['conv2d_9[0][0]']               \n",
            "                                                                                                  \n",
            " max_pooling2d_10 (MaxPooling2D  (None, 1, 1, 32)    0           ['conv2d_10[0][0]']              \n",
            " )                                                                                                \n",
            "                                                                                                  \n",
            " max_pooling2d_11 (MaxPooling2D  (None, 1, 1, 32)    0           ['conv2d_11[0][0]']              \n",
            " )                                                                                                \n",
            "                                                                                                  \n",
            " concatenate_3 (Concatenate)    (None, 4, 1, 32)     0           ['max_pooling2d_8[0][0]',        \n",
            "                                                                  'max_pooling2d_9[0][0]',        \n",
            "                                                                  'max_pooling2d_10[0][0]',       \n",
            "                                                                  'max_pooling2d_11[0][0]']       \n",
            "                                                                                                  \n",
            " flatten_2 (Flatten)            (None, 128)          0           ['concatenate_3[0][0]']          \n",
            "                                                                                                  \n",
            " dropout_2 (Dropout)            (None, 128)          0           ['flatten_2[0][0]']              \n",
            "                                                                                                  \n",
            " dense_2 (Dense)                (None, 7)            903         ['dropout_2[0][0]']              \n",
            "                                                                                                  \n",
            "==================================================================================================\n",
            "Total params: 2,760,731\n",
            "Trainable params: 2,760,731\n",
            "Non-trainable params: 0\n",
            "__________________________________________________________________________________________________\n"
          ]
        }
      ]
    },
    {
      "cell_type": "code",
      "source": [
        "X_train_fold = [preprocess(str(p)) for p in list(X_train1)]\n",
        "X_train_fold = tokenizer.texts_to_sequences(X_train_fold)\n",
        "X_train_fold = sequence.pad_sequences(X_train_fold, maxlen=maxlen)\n",
        "\n",
        "X_test_fold = [preprocess(str(p)) for p in list(X_test1)]\n",
        "X_test_fold = tokenizer.texts_to_sequences(X_test_fold)\n",
        "X_test_fold = sequence.pad_sequences(X_test_fold, maxlen=maxlen)\n",
        "\n",
        "X_valid_fold = [preprocess(str(p)) for p in list(X_valid1)]\n",
        "X_valid_fold = tokenizer.texts_to_sequences(X_valid_fold)\n",
        "X_valid_fold = sequence.pad_sequences(X_valid_fold, maxlen=maxlen)\n",
        "\n",
        "y_train_fold = to_categorical(y_train, num_classes=7)\n",
        "y_valid_fold = to_categorical(y_valid, num_classes=7)\n",
        "y_test_fold = y_test\n",
        "\n",
        "callback = EarlyStopping(patience=3)\n",
        "\n",
        "model1.fit(x=[X_train_fold,X_train2], y=y_train_fold, validation_data=([X_valid_fold, X_valid2], y_valid_fold),batch_size=32, epochs=50, callbacks=[callback], verbose=1)\n",
        "prediction = model1.predict([X_test_fold,X_test2], batch_size=batch_size, verbose=1)\n",
        "test_pred = prediction.argmax(axis=-1)\n",
        "evaluate = f1_score(y_test_fold, test_pred, average='weighted')\n",
        "acc = accuracy_score(y_test_fold, test_pred)\n",
        "confuse = confusion_matrix(y_test_fold, test_pred, labels=[0, 1, 2, 3, 4, 5, 6])"
      ],
      "metadata": {
        "colab": {
          "base_uri": "https://localhost:8080/"
        },
        "id": "YefAwXSDmRF6",
        "outputId": "c0115acc-c569-441e-c07b-bbba3e09231f"
      },
      "execution_count": 42,
      "outputs": [
        {
          "output_type": "stream",
          "name": "stdout",
          "text": [
            "Epoch 1/50\n",
            "174/174 [==============================] - 59s 121ms/step - loss: 1.7293 - categorical_accuracy: 0.3098 - val_loss: 1.5219 - val_categorical_accuracy: 0.4300\n",
            "Epoch 2/50\n",
            "174/174 [==============================] - 7s 41ms/step - loss: 1.4294 - categorical_accuracy: 0.4746 - val_loss: 1.3289 - val_categorical_accuracy: 0.4956\n",
            "Epoch 3/50\n",
            "174/174 [==============================] - 7s 41ms/step - loss: 1.1949 - categorical_accuracy: 0.5712 - val_loss: 1.2495 - val_categorical_accuracy: 0.5175\n",
            "Epoch 4/50\n",
            "174/174 [==============================] - 7s 42ms/step - loss: 1.0269 - categorical_accuracy: 0.6337 - val_loss: 1.2399 - val_categorical_accuracy: 0.5175\n",
            "Epoch 5/50\n",
            "174/174 [==============================] - 7s 42ms/step - loss: 0.8624 - categorical_accuracy: 0.7010 - val_loss: 1.2519 - val_categorical_accuracy: 0.5102\n",
            "Epoch 6/50\n",
            "174/174 [==============================] - 7s 43ms/step - loss: 0.7415 - categorical_accuracy: 0.7446 - val_loss: 1.2895 - val_categorical_accuracy: 0.5190\n",
            "Epoch 7/50\n",
            "174/174 [==============================] - 7s 42ms/step - loss: 0.6425 - categorical_accuracy: 0.7824 - val_loss: 1.3631 - val_categorical_accuracy: 0.5175\n",
            "1/1 [==============================] - 4s 4s/step\n"
          ]
        }
      ]
    },
    {
      "cell_type": "code",
      "source": [
        "print(classification_report(y_test_fold, test_pred,digits=4))"
      ],
      "metadata": {
        "colab": {
          "base_uri": "https://localhost:8080/"
        },
        "id": "UPNj4bOO2Zzr",
        "outputId": "cafcf732-2754-4607-db2d-cfe05ddf5d46"
      },
      "execution_count": 43,
      "outputs": [
        {
          "output_type": "stream",
          "name": "stdout",
          "text": [
            "              precision    recall  f1-score   support\n",
            "\n",
            "           0     0.3684    0.3500    0.3590        40\n",
            "           1     0.4662    0.4697    0.4679       132\n",
            "           2     0.6207    0.6528    0.6364       193\n",
            "           3     0.7368    0.6087    0.6667        46\n",
            "           4     0.4200    0.4884    0.4516       129\n",
            "           5     0.6214    0.5517    0.5845       116\n",
            "           6     0.4643    0.3514    0.4000        37\n",
            "\n",
            "    accuracy                         0.5339       693\n",
            "   macro avg     0.5283    0.4961    0.5094       693\n",
            "weighted avg     0.5388    0.5339    0.5346       693\n",
            "\n"
          ]
        }
      ]
    }
  ],
  "metadata": {
    "accelerator": "GPU",
    "colab": {
      "collapsed_sections": [
        "xVUQoGqSWe0z"
      ],
      "provenance": [],
      "toc_visible": true
    },
    "kernelspec": {
      "display_name": "Python 3",
      "name": "python3"
    },
    "language_info": {
      "name": "python"
    }
  },
  "nbformat": 4,
  "nbformat_minor": 0
}